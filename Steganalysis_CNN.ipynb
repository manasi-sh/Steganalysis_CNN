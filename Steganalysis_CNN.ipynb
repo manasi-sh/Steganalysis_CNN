{
  "cells": [
    {
      "cell_type": "markdown",
      "metadata": {
        "id": "view-in-github",
        "colab_type": "text"
      },
      "source": [
        "<a href=\"https://colab.research.google.com/github/manasi-sh/Steganalysis_CNN/blob/main/Steganalysis_CNN.ipynb\" target=\"_parent\"><img src=\"https://colab.research.google.com/assets/colab-badge.svg\" alt=\"Open In Colab\"/></a>"
      ]
    },
    {
      "cell_type": "code",
      "execution_count": null,
      "metadata": {
        "colab": {
          "base_uri": "https://localhost:8080/",
          "height": 388
        },
        "id": "yJzzNdCEwHdj",
        "outputId": "790d6a58-ee01-4aa1-e9aa-d670b4b03bca"
      },
      "outputs": [
        {
          "name": "stdout",
          "output_type": "stream",
          "text": [
            "Requirement already satisfied: kaggle in /usr/local/lib/python3.10/dist-packages (1.5.16)\n",
            "Requirement already satisfied: six>=1.10 in /usr/local/lib/python3.10/dist-packages (from kaggle) (1.16.0)\n",
            "Requirement already satisfied: certifi in /usr/local/lib/python3.10/dist-packages (from kaggle) (2023.11.17)\n",
            "Requirement already satisfied: python-dateutil in /usr/local/lib/python3.10/dist-packages (from kaggle) (2.8.2)\n",
            "Requirement already satisfied: requests in /usr/local/lib/python3.10/dist-packages (from kaggle) (2.31.0)\n",
            "Requirement already satisfied: tqdm in /usr/local/lib/python3.10/dist-packages (from kaggle) (4.66.1)\n",
            "Requirement already satisfied: python-slugify in /usr/local/lib/python3.10/dist-packages (from kaggle) (8.0.1)\n",
            "Requirement already satisfied: urllib3 in /usr/local/lib/python3.10/dist-packages (from kaggle) (2.0.7)\n",
            "Requirement already satisfied: bleach in /usr/local/lib/python3.10/dist-packages (from kaggle) (6.1.0)\n",
            "Requirement already satisfied: webencodings in /usr/local/lib/python3.10/dist-packages (from bleach->kaggle) (0.5.1)\n",
            "Requirement already satisfied: text-unidecode>=1.3 in /usr/local/lib/python3.10/dist-packages (from python-slugify->kaggle) (1.3)\n",
            "Requirement already satisfied: charset-normalizer<4,>=2 in /usr/local/lib/python3.10/dist-packages (from requests->kaggle) (3.3.2)\n",
            "Requirement already satisfied: idna<4,>=2.5 in /usr/local/lib/python3.10/dist-packages (from requests->kaggle) (3.6)\n"
          ]
        },
        {
          "data": {
            "text/html": [
              "\n",
              "     <input type=\"file\" id=\"files-984c71c7-7a03-4314-b284-a84bc171a8b4\" name=\"files[]\" multiple disabled\n",
              "        style=\"border:none\" />\n",
              "     <output id=\"result-984c71c7-7a03-4314-b284-a84bc171a8b4\">\n",
              "      Upload widget is only available when the cell has been executed in the\n",
              "      current browser session. Please rerun this cell to enable.\n",
              "      </output>\n",
              "      <script>// Copyright 2017 Google LLC\n",
              "//\n",
              "// Licensed under the Apache License, Version 2.0 (the \"License\");\n",
              "// you may not use this file except in compliance with the License.\n",
              "// You may obtain a copy of the License at\n",
              "//\n",
              "//      http://www.apache.org/licenses/LICENSE-2.0\n",
              "//\n",
              "// Unless required by applicable law or agreed to in writing, software\n",
              "// distributed under the License is distributed on an \"AS IS\" BASIS,\n",
              "// WITHOUT WARRANTIES OR CONDITIONS OF ANY KIND, either express or implied.\n",
              "// See the License for the specific language governing permissions and\n",
              "// limitations under the License.\n",
              "\n",
              "/**\n",
              " * @fileoverview Helpers for google.colab Python module.\n",
              " */\n",
              "(function(scope) {\n",
              "function span(text, styleAttributes = {}) {\n",
              "  const element = document.createElement('span');\n",
              "  element.textContent = text;\n",
              "  for (const key of Object.keys(styleAttributes)) {\n",
              "    element.style[key] = styleAttributes[key];\n",
              "  }\n",
              "  return element;\n",
              "}\n",
              "\n",
              "// Max number of bytes which will be uploaded at a time.\n",
              "const MAX_PAYLOAD_SIZE = 100 * 1024;\n",
              "\n",
              "function _uploadFiles(inputId, outputId) {\n",
              "  const steps = uploadFilesStep(inputId, outputId);\n",
              "  const outputElement = document.getElementById(outputId);\n",
              "  // Cache steps on the outputElement to make it available for the next call\n",
              "  // to uploadFilesContinue from Python.\n",
              "  outputElement.steps = steps;\n",
              "\n",
              "  return _uploadFilesContinue(outputId);\n",
              "}\n",
              "\n",
              "// This is roughly an async generator (not supported in the browser yet),\n",
              "// where there are multiple asynchronous steps and the Python side is going\n",
              "// to poll for completion of each step.\n",
              "// This uses a Promise to block the python side on completion of each step,\n",
              "// then passes the result of the previous step as the input to the next step.\n",
              "function _uploadFilesContinue(outputId) {\n",
              "  const outputElement = document.getElementById(outputId);\n",
              "  const steps = outputElement.steps;\n",
              "\n",
              "  const next = steps.next(outputElement.lastPromiseValue);\n",
              "  return Promise.resolve(next.value.promise).then((value) => {\n",
              "    // Cache the last promise value to make it available to the next\n",
              "    // step of the generator.\n",
              "    outputElement.lastPromiseValue = value;\n",
              "    return next.value.response;\n",
              "  });\n",
              "}\n",
              "\n",
              "/**\n",
              " * Generator function which is called between each async step of the upload\n",
              " * process.\n",
              " * @param {string} inputId Element ID of the input file picker element.\n",
              " * @param {string} outputId Element ID of the output display.\n",
              " * @return {!Iterable<!Object>} Iterable of next steps.\n",
              " */\n",
              "function* uploadFilesStep(inputId, outputId) {\n",
              "  const inputElement = document.getElementById(inputId);\n",
              "  inputElement.disabled = false;\n",
              "\n",
              "  const outputElement = document.getElementById(outputId);\n",
              "  outputElement.innerHTML = '';\n",
              "\n",
              "  const pickedPromise = new Promise((resolve) => {\n",
              "    inputElement.addEventListener('change', (e) => {\n",
              "      resolve(e.target.files);\n",
              "    });\n",
              "  });\n",
              "\n",
              "  const cancel = document.createElement('button');\n",
              "  inputElement.parentElement.appendChild(cancel);\n",
              "  cancel.textContent = 'Cancel upload';\n",
              "  const cancelPromise = new Promise((resolve) => {\n",
              "    cancel.onclick = () => {\n",
              "      resolve(null);\n",
              "    };\n",
              "  });\n",
              "\n",
              "  // Wait for the user to pick the files.\n",
              "  const files = yield {\n",
              "    promise: Promise.race([pickedPromise, cancelPromise]),\n",
              "    response: {\n",
              "      action: 'starting',\n",
              "    }\n",
              "  };\n",
              "\n",
              "  cancel.remove();\n",
              "\n",
              "  // Disable the input element since further picks are not allowed.\n",
              "  inputElement.disabled = true;\n",
              "\n",
              "  if (!files) {\n",
              "    return {\n",
              "      response: {\n",
              "        action: 'complete',\n",
              "      }\n",
              "    };\n",
              "  }\n",
              "\n",
              "  for (const file of files) {\n",
              "    const li = document.createElement('li');\n",
              "    li.append(span(file.name, {fontWeight: 'bold'}));\n",
              "    li.append(span(\n",
              "        `(${file.type || 'n/a'}) - ${file.size} bytes, ` +\n",
              "        `last modified: ${\n",
              "            file.lastModifiedDate ? file.lastModifiedDate.toLocaleDateString() :\n",
              "                                    'n/a'} - `));\n",
              "    const percent = span('0% done');\n",
              "    li.appendChild(percent);\n",
              "\n",
              "    outputElement.appendChild(li);\n",
              "\n",
              "    const fileDataPromise = new Promise((resolve) => {\n",
              "      const reader = new FileReader();\n",
              "      reader.onload = (e) => {\n",
              "        resolve(e.target.result);\n",
              "      };\n",
              "      reader.readAsArrayBuffer(file);\n",
              "    });\n",
              "    // Wait for the data to be ready.\n",
              "    let fileData = yield {\n",
              "      promise: fileDataPromise,\n",
              "      response: {\n",
              "        action: 'continue',\n",
              "      }\n",
              "    };\n",
              "\n",
              "    // Use a chunked sending to avoid message size limits. See b/62115660.\n",
              "    let position = 0;\n",
              "    do {\n",
              "      const length = Math.min(fileData.byteLength - position, MAX_PAYLOAD_SIZE);\n",
              "      const chunk = new Uint8Array(fileData, position, length);\n",
              "      position += length;\n",
              "\n",
              "      const base64 = btoa(String.fromCharCode.apply(null, chunk));\n",
              "      yield {\n",
              "        response: {\n",
              "          action: 'append',\n",
              "          file: file.name,\n",
              "          data: base64,\n",
              "        },\n",
              "      };\n",
              "\n",
              "      let percentDone = fileData.byteLength === 0 ?\n",
              "          100 :\n",
              "          Math.round((position / fileData.byteLength) * 100);\n",
              "      percent.textContent = `${percentDone}% done`;\n",
              "\n",
              "    } while (position < fileData.byteLength);\n",
              "  }\n",
              "\n",
              "  // All done.\n",
              "  yield {\n",
              "    response: {\n",
              "      action: 'complete',\n",
              "    }\n",
              "  };\n",
              "}\n",
              "\n",
              "scope.google = scope.google || {};\n",
              "scope.google.colab = scope.google.colab || {};\n",
              "scope.google.colab._files = {\n",
              "  _uploadFiles,\n",
              "  _uploadFilesContinue,\n",
              "};\n",
              "})(self);\n",
              "</script> "
            ],
            "text/plain": [
              "<IPython.core.display.HTML object>"
            ]
          },
          "metadata": {},
          "output_type": "display_data"
        },
        {
          "name": "stdout",
          "output_type": "stream",
          "text": [
            "Saving kaggle.json to kaggle.json\n",
            "Downloading dataset2.zip to /content\n",
            " 97% 659M/676M [00:07<00:00, 109MB/s]\n",
            "100% 676M/676M [00:07<00:00, 99.4MB/s]\n",
            "cover1\tstego1\n"
          ]
        }
      ],
      "source": [
        "# Install the Kaggle API\n",
        "!pip install kaggle\n",
        "\n",
        "# Upload your Kaggle API key file (kaggle.json) from the Downloads folder\n",
        "from google.colab import files\n",
        "\n",
        "# Upload the Kaggle API key file from the Downloads folder\n",
        "uploaded = files.upload()\n",
        "\n",
        "# Move the uploaded Kaggle API key to the correct directory\n",
        "import shutil\n",
        "\n",
        "# Get the uploaded file name\n",
        "key_filename = list(uploaded.keys())[0]\n",
        "\n",
        "# Create the .kaggle directory if it doesn't exist\n",
        "!mkdir -p /root/.kaggle\n",
        "\n",
        "# Move the uploaded Kaggle API key to the .kaggle directory\n",
        "shutil.move(key_filename, '/root/.kaggle/kaggle.json')\n",
        "!chmod 600 /root/.kaggle/kaggle.json\n",
        "\n",
        "# Download the dataset2\n",
        "!kaggle datasets download vishakhaisstressed/dataset2\n",
        "\n",
        "# Unzip the downloaded files\n",
        "!unzip -q dataset2.zip -d dataset2\n",
        "\n",
        "# List the files in the dataset directory\n",
        "!ls dataset2\n"
      ]
    },
    {
      "cell_type": "code",
      "execution_count": null,
      "metadata": {
        "id": "hl-dm0DaIRWE"
      },
      "outputs": [],
      "source": [
        "import keras\n",
        "import numpy as np\n",
        "import os\n",
        "import tensorflow as tf\n",
        "import matplotlib.pyplot as plt\n",
        "from keras.models import Sequential\n",
        "# from keras.layers.core import Dense, Dropout, Activation, Flatten\n",
        "# from keras.layers.convolutional import Conv2D\n",
        "from tensorflow.keras.layers import Dense, Dropout, Activation, Flatten, Conv2D\n",
        "from keras.preprocessing import image\n",
        "from keras.utils import to_categorical\n",
        "# from tensorflow.python.keras.callbacks import TensorBoard\n",
        "# from keras.preprocessing.image import ImageDataGenerator\n",
        "# from time import time\n",
        "from PIL import Image\n",
        "import cv2\n"
      ]
    },
    {
      "cell_type": "code",
      "execution_count": null,
      "metadata": {
        "id": "RKtvHgc5k7w7"
      },
      "outputs": [],
      "source": [
        "from tensorflow.keras import layers, models\n",
        "from sklearn.model_selection import train_test_split\n",
        "import numpy as np"
      ]
    },
    {
      "cell_type": "code",
      "execution_count": null,
      "metadata": {
        "id": "D6PQB84FFzO-"
      },
      "outputs": [],
      "source": [
        "# import os\n",
        "# import numpy as np\n",
        "# from PIL import Image\n",
        "\n",
        "# Set the directories to the image and label folders\n",
        "image_directory1 = '/content/dataset2/stego1'\n",
        "image_directory2 = '/content/dataset2/cover1'\n",
        "\n",
        "# List the image filenames and store them in `filenames`\n",
        "filenames1 = [f for f in os.listdir(image_directory1) if f.endswith('.jpg') or f.endswith('.png')]\n",
        "filenames2 = [f for f in os.listdir(image_directory2) if f.endswith('.jpg') or f.endswith('.png')]\n",
        "# Create empty lists to store flattened images and their corresponding labels\n",
        "images = []\n",
        "labels = []\n",
        "\n",
        "# Loop through each image filename\n",
        "for filename in filenames1:\n",
        "    # Load the image\n",
        "    img = Image.open(os.path.join(image_directory1, filename))\n",
        "    img = np.array(img)\n",
        "    img = cv2.resize(img, (256, 256))\n",
        "\n",
        "    # Flatten the image into a 1D array and store it in `images`\n",
        "    image = np.array(img).flatten()\n",
        "    images.append(image)\n",
        "\n",
        "    # Load the corresponding label from the text file\n",
        "\n",
        "    label = \"STEGO\"\n",
        "    labels.append(label)\n",
        "\n",
        "for filename in filenames2:\n",
        "    # Load the image\n",
        "    img = Image.open(os.path.join(image_directory2, filename))\n",
        "    img = np.array(img)\n",
        "    img = cv2.resize(img, (256, 256))\n",
        "\n",
        "    # Flatten the image into a 1D array and store it in `images`\n",
        "    image = np.array(img).flatten()\n",
        "    images.append(image)\n",
        "\n",
        "    # Load the corresponding label from the text file\n",
        "\n",
        "    label = \"COVER\"\n",
        "    labels.append(label)\n",
        "\n",
        "# Convert the `images` and `labels` lists into numpy arrays\n",
        "X = np.array(images)\n",
        "y = np.array(labels)"
      ]
    },
    {
      "cell_type": "code",
      "execution_count": null,
      "metadata": {
        "id": "9mZDb3KTHaAu"
      },
      "outputs": [],
      "source": [
        "from sklearn.model_selection import train_test_split\n",
        "\n",
        "X_train, X_test, y_train, y_test = train_test_split(X, y, test_size=0.2, random_state=42)"
      ]
    },
    {
      "cell_type": "code",
      "execution_count": null,
      "metadata": {
        "colab": {
          "base_uri": "https://localhost:8080/"
        },
        "id": "ELcTYQlHH6_R",
        "outputId": "7dcaf598-f77e-4853-cc7d-c302756931a4"
      },
      "outputs": [
        {
          "name": "stdout",
          "output_type": "stream",
          "text": [
            "Number of total images:  2820\n",
            "X_train shape:  (2820, 196608)\n",
            "y_train shape:  (2820,)\n"
          ]
        }
      ],
      "source": [
        "print(\"Number of total images: \", X_train.shape[0])\n",
        "print(\"X_train shape: \", X_train.shape)\n",
        "print(\"y_train shape: \", y_train.shape)"
      ]
    },
    {
      "cell_type": "code",
      "execution_count": null,
      "metadata": {
        "id": "_eAGCrvgmB1n"
      },
      "outputs": [],
      "source": [
        "# # Assuming X_train is a flattened array with shape (num_samples, flattened_size)\n",
        "# image_height, image_width = int(np.sqrt(X_train.shape[1])), int(np.sqrt(X_train.shape[1]))\n",
        "# X_train = X_train.reshape(-1, image_height, image_width, 1)\n",
        "\n",
        "# image_height, image_width = int(np.sqrt(X_test.shape[1])), int(np.sqrt(X_test.shape[1]))\n",
        "# X_test = X_test.reshape(-1, image_height, image_width, 1)\n",
        "image_height, image_width = 256, 256\n",
        "X_train = X_train.reshape(-1, image_height, image_width, 3)\n",
        "X_test = X_test.reshape(-1, image_height, image_width, 3)\n",
        "\n"
      ]
    },
    {
      "cell_type": "code",
      "execution_count": null,
      "metadata": {
        "colab": {
          "base_uri": "https://localhost:8080/"
        },
        "id": "GdZ0IhiHnQGr",
        "outputId": "7fd36e54-1bc2-47fb-e5c2-0a14b7129b58"
      },
      "outputs": [
        {
          "name": "stdout",
          "output_type": "stream",
          "text": [
            "X_train shape: (2820, 256, 256, 3)\n",
            "y_train shape: (2820,)\n",
            "X_train sample: [[[ 26  39  45]\n",
            "  [ 26  39  45]\n",
            "  [ 24  37  43]\n",
            "  ...\n",
            "  [ 29  37  40]\n",
            "  [ 30  38  41]\n",
            "  [ 31  39  42]]\n",
            "\n",
            " [[ 26  39  45]\n",
            "  [ 26  39  45]\n",
            "  [ 25  38  44]\n",
            "  ...\n",
            "  [ 29  37  40]\n",
            "  [ 29  37  40]\n",
            "  [ 30  38  41]]\n",
            "\n",
            " [[ 26  39  45]\n",
            "  [ 26  39  45]\n",
            "  [ 26  39  45]\n",
            "  ...\n",
            "  [ 29  37  40]\n",
            "  [ 30  38  41]\n",
            "  [ 31  39  42]]\n",
            "\n",
            " ...\n",
            "\n",
            " [[ 33  39  41]\n",
            "  [ 35  40  42]\n",
            "  [ 40  45  47]\n",
            "  ...\n",
            "  [122 123 123]\n",
            "  [121 122 121]\n",
            "  [ 99 100  99]]\n",
            "\n",
            " [[ 35  37  38]\n",
            "  [ 40  41  41]\n",
            "  [ 42  38  40]\n",
            "  ...\n",
            "  [ 76  71  87]\n",
            "  [ 60  55  70]\n",
            "  [ 65  60  75]]\n",
            "\n",
            " [[ 33  40  38]\n",
            "  [ 33  34  34]\n",
            "  [ 48  43  45]\n",
            "  ...\n",
            "  [116 119 122]\n",
            "  [ 93  97  99]\n",
            "  [102 105 108]]]\n",
            "y_train sample: STEGO\n"
          ]
        }
      ],
      "source": [
        "print(\"X_train shape:\", X_train.shape)\n",
        "print(\"y_train shape:\", y_train.shape)\n",
        "print(\"X_train sample:\", X_train[0])  # Print a sample image\n",
        "print(\"y_train sample:\", y_train[0])  # Print the corresponding label\n"
      ]
    },
    {
      "cell_type": "code",
      "execution_count": null,
      "metadata": {
        "id": "v7TBR1z4oCtH"
      },
      "outputs": [],
      "source": [
        "from sklearn.preprocessing import LabelEncoder\n",
        "from keras.utils import to_categorical\n",
        "\n",
        "# Convert labels to numerical values\n",
        "le = LabelEncoder()\n",
        "y_train_encoded = le.fit_transform(y_train)\n",
        "y_test_encoded = le.fit_transform(y_test)\n",
        "\n",
        "# Convert numerical values to one-hot encoding\n",
        "y_train_one_hot = to_categorical(y_train_encoded, num_classes=2)\n",
        "y_test_one_hot = to_categorical(y_test_encoded, num_classes=2)\n",
        "\n"
      ]
    },
    {
      "cell_type": "code",
      "execution_count": null,
      "metadata": {
        "colab": {
          "background_save": true,
          "base_uri": "https://localhost:8080/"
        },
        "id": "ePGJdpP7AJ94",
        "outputId": "428826eb-a635-45f3-a1bb-d81e27260943"
      },
      "outputs": [
        {
          "name": "stdout",
          "output_type": "stream",
          "text": [
            "Epoch 1/30\n",
            "45/45 [==============================] - 556s 12s/step - loss: 181.5412 - accuracy: 0.4954 - val_loss: 4.7775 - val_accuracy: 0.5283\n",
            "Epoch 2/30\n",
            "45/45 [==============================] - 561s 12s/step - loss: 4.6287 - accuracy: 0.5004 - val_loss: 4.4286 - val_accuracy: 0.4688\n",
            "Epoch 3/30\n",
            "45/45 [==============================] - 559s 12s/step - loss: 4.2589 - accuracy: 0.4957 - val_loss: 4.0845 - val_accuracy: 0.4688\n",
            "Epoch 4/30\n",
            "45/45 [==============================] - 561s 12s/step - loss: 3.9448 - accuracy: 0.5000 - val_loss: 3.7989 - val_accuracy: 0.4703\n",
            "Epoch 5/30\n",
            "45/45 [==============================] - 559s 12s/step - loss: 3.6778 - accuracy: 0.5046 - val_loss: 3.5528 - val_accuracy: 0.4731\n",
            "Epoch 6/30\n",
            "45/45 [==============================] - 558s 12s/step - loss: 3.4489 - accuracy: 0.5064 - val_loss: 3.3391 - val_accuracy: 0.4688\n",
            "Epoch 7/30\n",
            "45/45 [==============================] - 560s 12s/step - loss: 3.2476 - accuracy: 0.5128 - val_loss: 3.1528 - val_accuracy: 0.4717\n",
            "Epoch 8/30\n",
            "45/45 [==============================] - 559s 12s/step - loss: 3.0713 - accuracy: 0.5043 - val_loss: 2.9879 - val_accuracy: 0.4731\n",
            "Epoch 9/30\n",
            "45/45 [==============================] - 554s 12s/step - loss: 2.9151 - accuracy: 0.5035 - val_loss: 2.8407 - val_accuracy: 0.4674\n",
            "Epoch 10/30\n",
            "45/45 [==============================] - 549s 12s/step - loss: 2.7749 - accuracy: 0.5121 - val_loss: 2.7073 - val_accuracy: 0.4646\n",
            "Epoch 11/30\n",
            "45/45 [==============================] - 547s 12s/step - loss: 2.6470 - accuracy: 0.5053 - val_loss: 2.5874 - val_accuracy: 0.4660\n",
            "Epoch 12/30\n",
            "45/45 [==============================] - 541s 12s/step - loss: 2.5344 - accuracy: 0.5074 - val_loss: 2.4804 - val_accuracy: 0.4688\n",
            "Epoch 13/30\n",
            "45/45 [==============================] - 545s 12s/step - loss: 2.4285 - accuracy: 0.5021 - val_loss: 2.3765 - val_accuracy: 0.4688\n",
            "Epoch 14/30\n",
            "45/45 [==============================] - 544s 12s/step - loss: 2.3301 - accuracy: 0.5053 - val_loss: 2.2834 - val_accuracy: 0.4674\n",
            "Epoch 15/30\n",
            "45/45 [==============================] - 544s 12s/step - loss: 2.2402 - accuracy: 0.4996 - val_loss: 2.1988 - val_accuracy: 0.4674\n",
            "Epoch 16/30\n",
            "45/45 [==============================] - 543s 12s/step - loss: 2.1597 - accuracy: 0.5078 - val_loss: 2.1225 - val_accuracy: 0.4561\n",
            "Epoch 17/30\n",
            "45/45 [==============================] - 549s 12s/step - loss: 2.0870 - accuracy: 0.4901 - val_loss: 2.0500 - val_accuracy: 0.4603\n",
            "Epoch 18/30\n",
            "45/45 [==============================] - 542s 12s/step - loss: 2.0134 - accuracy: 0.5103 - val_loss: 1.9779 - val_accuracy: 0.4618\n",
            "Epoch 19/30\n",
            "45/45 [==============================] - 543s 12s/step - loss: 1.9458 - accuracy: 0.5007 - val_loss: 1.9142 - val_accuracy: 0.4660\n",
            "Epoch 20/30\n",
            "28/45 [=================>............] - ETA: 3:12 - loss: 1.8940 - accuracy: 0.5022"
          ]
        }
      ],
      "source": [
        "from keras import regularizers\n",
        "from keras.optimizers import Adam\n",
        "model = models.Sequential()\n",
        "model.add(layers.Conv2D(32, (3, 3), activation='relu', input_shape=(256, 256, 3)))\n",
        "model.add(layers.MaxPooling2D((2, 2)))\n",
        "model.add(layers.Dropout(0.25))  # Add dropout layer\n",
        "model.add(layers.Conv2D(128, (3, 3), activation='relu')) #Increase Model Complexity\n",
        "model.add(layers.MaxPooling2D((2, 2)))\n",
        "model.add(layers.Dropout(0.25))  # Add dropout layer\n",
        "model.add(layers.Conv2D(64, (3, 3), activation='relu'))\n",
        "model.add(layers.Flatten())\n",
        "model.add(layers.Dense(64, activation='relu', kernel_regularizer=regularizers.l2(0.01))) #Weight Regularization\n",
        "model.add(layers.Dropout(0.5))  # Add dropout layer\n",
        "model.add(layers.Dense(2, activation='softmax'))\n",
        "\n",
        "optimizer = Adam(learning_rate=0.001) #Adjust Learning Rate\n",
        "model.compile(optimizer=optimizer,\n",
        "              loss='categorical_crossentropy',\n",
        "              metrics=['accuracy'])\n",
        "\n",
        "history = model.fit(X_train, y_train_one_hot, epochs=30, batch_size=64, validation_data=(X_test, y_test_one_hot))\n"
      ]
    },
    {
      "cell_type": "code",
      "execution_count": null,
      "metadata": {
        "colab": {
          "base_uri": "https://localhost:8080/"
        },
        "id": "MYR4186bN9-n",
        "outputId": "068c7c38-878e-4876-eb16-e1598bbffec4"
      },
      "outputs": [
        {
          "name": "stdout",
          "output_type": "stream",
          "text": [
            "89/89 [==============================] - 162s 2s/step - loss: 2.4088 - accuracy: 0.5078\n",
            "23/23 [==============================] - 37s 2s/step - loss: 2.4097 - accuracy: 0.4731\n",
            "0.5078014135360718\n",
            "0.4730878174304962\n"
          ]
        }
      ],
      "source": [
        "training_accuracy = model.evaluate(X_train, y_train_one_hot)[1]\n",
        "test_accuracy = model.evaluate(X_test, y_test_one_hot)[1]\n",
        "print(training_accuracy)\n",
        "print(test_accuracy)"
      ]
    },
    {
      "cell_type": "code",
      "execution_count": null,
      "metadata": {
        "colab": {
          "base_uri": "https://localhost:8080/",
          "height": 472
        },
        "id": "e2QdQF9d0ifd",
        "outputId": "a261fc57-1c57-41aa-8f79-2091fb389975"
      },
      "outputs": [
        {
          "data": {
            "image/png": "[encoded data removed]",
            "text/plain": [
              "<Figure size 640x480 with 1 Axes>"
            ]
          },
          "metadata": {},
          "output_type": "display_data"
        }
      ],
      "source": [
        "#plot graph\n",
        "import matplotlib.pyplot as plt\n",
        "\n",
        "# Assuming you have trained your model and obtained a history object\n",
        "\n",
        "# Extract accuracy values from the history object\n",
        "train_accuracy = history.history['accuracy']\n",
        "val_accuracy = history.history['val_accuracy']\n",
        "\n",
        "# Plot training and validation accuracy\n",
        "epochs = range(1, len(train_accuracy) + 1)\n",
        "plt.plot(epochs, train_accuracy, 'b', label='Training Accuracy')\n",
        "plt.plot(epochs, val_accuracy, 'r', label='Validation Accuracy')\n",
        "plt.title('Training and Validation Accuracy')\n",
        "plt.xlabel('Epochs')\n",
        "plt.ylabel('Accuracy')\n",
        "plt.legend()\n",
        "\n",
        "# Show the plot\n",
        "plt.show()\n"
      ]
    },
    {
      "cell_type": "code",
      "execution_count": null,
      "metadata": {
        "id": "jDY9fH5go8rs"
      },
      "outputs": [],
      "source": [
        "def predict_image(model, img_path):\n",
        "    img = Image.open(img_path)\n",
        "    img = np.array(img)\n",
        "    img = cv2.resize(img, (256, 256))\n",
        "    img = img.reshape(1, 256, 256, 3)\n",
        "    prediction = model.predict(img)\n",
        "    print(\"Predicting: \", prediction)\n",
        "    predicted_class = np.argmax(prediction)\n",
        "    print(predicted_class)\n",
        "    if predicted_class == 0:\n",
        "        print(\"Predicted image is COVER IMAGE\")\n",
        "    else:\n",
        "        print(\"Predicted image is STEGO IMAGE\")\n",
        "    # Assuming you have trained your model and obtained predictions in a variable named 'predictions'\n",
        "# predictions = model.predict(X)\n",
        "\n",
        "# Get the predicted classes for each sample\n",
        "    predicted_classes = np.argmax(prediction, axis=1)\n",
        "\n",
        "    # Get the unique values in the true labels (y) and the predicted classes\n",
        "    unique_true_labels = np.unique(y)\n",
        "    unique_predicted_classes = np.unique(predicted_classes)\n",
        "\n",
        "    # Print the mapping between predicted classes and actual labels\n",
        "    for predicted_class in unique_predicted_classes:\n",
        "        corresponding_label = unique_true_labels[predicted_class]\n",
        "        print(f\"Predicted class {predicted_class} corresponds to label '{corresponding_label}'\") #0 is cover and 1 is stego\n"
      ]
    },
    {
      "cell_type": "code",
      "execution_count": null,
      "metadata": {
        "colab": {
          "base_uri": "https://localhost:8080/"
        },
        "id": "ZhYcfnJ5pD2g",
        "outputId": "dfc2de4c-0e22-4fb6-c3a5-55c27f2f18c1"
      },
      "outputs": [
        {
          "name": "stdout",
          "output_type": "stream",
          "text": [
            "1/1 [==============================] - 0s 198ms/step\n",
            "Predicting:  [[0.50427574 0.49572426]]\n",
            "0\n",
            "Predicted image is COVER IMAGE\n",
            "Predicted class 0 corresponds to label 'COVER'\n"
          ]
        }
      ],
      "source": [
        "img_path = \"/content/cover_img.jpg\"\n",
        "predict_image(model, img_path)"
      ]
    },
    {
      "cell_type": "code",
      "execution_count": null,
      "metadata": {
        "colab": {
          "base_uri": "https://localhost:8080/"
        },
        "id": "wRP-SSPlqt51",
        "outputId": "5f372185-9732-4c0a-d35e-3cbca548ee4c"
      },
      "outputs": [
        {
          "name": "stdout",
          "output_type": "stream",
          "text": [
            "1/1 [==============================] - 0s 101ms/step\n",
            "Predicting:  [[0.50427574 0.49572426]]\n",
            "0\n",
            "Predicted image is COVER IMAGE\n",
            "Predicted class 0 corresponds to label 'COVER'\n"
          ]
        }
      ],
      "source": [
        "img_path = \"/content/hidden_cover_img.jpg\"\n",
        "predict_image(model, img_path)"
      ]
    },
    {
      "cell_type": "code",
      "execution_count": null,
      "metadata": {
        "id": "eRQQibwtlSGS"
      },
      "outputs": [],
      "source": [
        "#2nd approach\n",
        "import os\n",
        "import numpy as np\n",
        "from PIL import Image\n",
        "import cv2\n",
        "import matplotlib.pyplot as plt\n",
        "from sklearn.model_selection import train_test_split\n",
        "from tensorflow.keras.models import Sequential\n",
        "from tensorflow.keras.layers import Conv2D, Activation, Flatten, Dense\n",
        "import tensorflow.keras.optimizers as keras_optimizers"
      ]
    },
    {
      "cell_type": "code",
      "execution_count": null,
      "metadata": {
        "id": "iKnplP--hdnH"
      },
      "outputs": [],
      "source": [
        "class AccuracyHistory(keras.callbacks.Callback):\n",
        "    def on_train_begin(self, logs={}):\n",
        "        self.acc = []\n",
        "        self.loss =[] # loss at given epoch\n",
        "\n",
        "    def on_epoch_begin(self,epoch, logs={}):\n",
        "        return\n",
        "\n",
        "    def on_epoch_end(self, epoch, logs={}):\n",
        "        self.acc.append(logs.get('acc'))\n",
        "        self.loss.append(logs.get('loss'))\n",
        "        #add validation accuracy and loss\n",
        "        # self.model.save('./models-epoch/jsteg-%d.h5' %epoch)\n",
        "\n",
        "        # save images every epoch\n",
        "        plt.plot(self.acc)\n",
        "        plt.xlabel('Epochs')\n",
        "        plt.ylabel('Accuracy')\n",
        "        # plt.savefig(\"plots/jsteg-%d.png\" %epoch) # saves the rate as an image\n",
        "\n"
      ]
    },
    {
      "cell_type": "code",
      "execution_count": null,
      "metadata": {
        "id": "SgQcE01nksow"
      },
      "outputs": [],
      "source": [
        "def create_model(image_size):\n",
        "    model = Sequential()\n",
        "    model.add(Conv2D(1, (3, 3), input_shape=(image_size, image_size, 3)))\n",
        "    model.add(Activation('tanh'))\n",
        "    model.add(Conv2D(64, (254, 254)))\n",
        "    model.add(Activation('tanh'))\n",
        "    model.add(Flatten())\n",
        "    model.add(Dense(64, activation='relu'))\n",
        "    model.add(Dense(2, activation='softmax'))\n",
        "    return model\n",
        "\n",
        "def train_model(model, X_train, y_train_one_hot, X_test, y_test_one_hot):\n",
        "    sgd = keras_optimizers.SGD(learning_rate=0.005, momentum=0.0)\n",
        "    model.compile(loss='categorical_crossentropy', optimizer=sgd, metrics=['accuracy'])\n",
        "    history = model.fit(X_train, y_train_one_hot, batch_size=32, validation_data=(X_test, y_test_one_hot),\n",
        "                        epochs=20, shuffle=True)\n",
        "    return model, history\n",
        "\n",
        "def evaluate_model(model, X_test, y_test_one_hot):\n",
        "    score = model.evaluate(X_test, y_test_one_hot, verbose=0)\n",
        "    print('Test loss:', score[0])\n",
        "    print('Test accuracy:', score[1])\n",
        "\n",
        "def plot_accuracy(history):\n",
        "    plt.plot(history.history['accuracy'])\n",
        "    plt.xlabel('Epochs')\n",
        "    plt.ylabel('Accuracy')\n",
        "    plt.savefig(\"jsteg.png\")\n",
        "    plt.show()\n",
        "\n",
        "def predict_image(model, img_path):\n",
        "    img = Image.open(img_path)\n",
        "    img = np.array(img)\n",
        "    img = cv2.resize(img, (256, 256))\n",
        "    img = img.reshape(1, 256, 256, 3)\n",
        "    prediction = model.predict(img)\n",
        "    print(\"Predicting: \", prediction)\n",
        "    predicted_class = np.argmax(prediction)\n",
        "    print(predicted_class)\n",
        "    if predicted_class == 0:\n",
        "        print(\"Predicted image is COVER IMAGE\")\n",
        "    else:\n",
        "        print(\"Predicted image is STEGO IMAGE\")"
      ]
    },
    {
      "cell_type": "code",
      "execution_count": null,
      "metadata": {
        "colab": {
          "base_uri": "https://localhost:8080/",
          "height": 1000
        },
        "id": "juI8IuE5kwrR",
        "outputId": "e0f84c35-e55b-4fb4-c4b1-06d97e0d1662"
      },
      "outputs": [
        {
          "name": "stdout",
          "output_type": "stream",
          "text": [
            "Epoch 1/20\n",
            "89/89 [==============================] - 67s 752ms/step - loss: 0.7835 - accuracy: 0.5110 - val_loss: 0.6928 - val_accuracy: 0.5255\n",
            "Epoch 2/20\n",
            "89/89 [==============================] - 67s 760ms/step - loss: 0.6950 - accuracy: 0.4972 - val_loss: 0.7219 - val_accuracy: 0.4745\n",
            "Epoch 3/20\n",
            "89/89 [==============================] - 63s 709ms/step - loss: 0.6950 - accuracy: 0.5000 - val_loss: 0.6932 - val_accuracy: 0.5241\n",
            "Epoch 4/20\n",
            "89/89 [==============================] - 62s 689ms/step - loss: 0.6948 - accuracy: 0.4975 - val_loss: 0.7223 - val_accuracy: 0.4745\n",
            "Epoch 5/20\n",
            "89/89 [==============================] - 62s 699ms/step - loss: 0.6954 - accuracy: 0.5071 - val_loss: 0.6931 - val_accuracy: 0.5241\n",
            "Epoch 6/20\n",
            "89/89 [==============================] - 63s 701ms/step - loss: 0.6951 - accuracy: 0.4947 - val_loss: 0.6928 - val_accuracy: 0.5241\n",
            "Epoch 7/20\n",
            "89/89 [==============================] - 69s 775ms/step - loss: 0.6947 - accuracy: 0.5021 - val_loss: 0.6934 - val_accuracy: 0.4773\n",
            "Epoch 8/20\n",
            "89/89 [==============================] - 62s 695ms/step - loss: 0.6948 - accuracy: 0.4911 - val_loss: 0.6985 - val_accuracy: 0.4745\n",
            "Epoch 9/20\n",
            "89/89 [==============================] - 61s 683ms/step - loss: 0.6954 - accuracy: 0.4936 - val_loss: 0.6964 - val_accuracy: 0.4745\n",
            "Epoch 10/20\n",
            "89/89 [==============================] - 61s 688ms/step - loss: 0.6944 - accuracy: 0.5000 - val_loss: 0.6929 - val_accuracy: 0.5241\n",
            "Epoch 11/20\n",
            "89/89 [==============================] - 62s 697ms/step - loss: 0.6945 - accuracy: 0.5035 - val_loss: 0.6927 - val_accuracy: 0.5227\n",
            "Epoch 12/20\n",
            "89/89 [==============================] - 63s 710ms/step - loss: 0.6959 - accuracy: 0.4837 - val_loss: 0.6922 - val_accuracy: 0.5227\n",
            "Epoch 13/20\n",
            "89/89 [==============================] - 61s 686ms/step - loss: 0.6946 - accuracy: 0.5011 - val_loss: 0.6982 - val_accuracy: 0.5241\n",
            "Epoch 14/20\n",
            "89/89 [==============================] - 61s 681ms/step - loss: 0.6946 - accuracy: 0.5085 - val_loss: 0.6940 - val_accuracy: 0.4745\n",
            "Epoch 15/20\n",
            "89/89 [==============================] - 62s 700ms/step - loss: 0.6948 - accuracy: 0.4897 - val_loss: 0.7108 - val_accuracy: 0.4745\n",
            "Epoch 16/20\n",
            "89/89 [==============================] - 62s 700ms/step - loss: 0.6952 - accuracy: 0.5089 - val_loss: 0.6925 - val_accuracy: 0.5227\n",
            "Epoch 17/20\n",
            "89/89 [==============================] - 62s 699ms/step - loss: 0.6948 - accuracy: 0.4961 - val_loss: 0.7126 - val_accuracy: 0.4745\n",
            "Epoch 18/20\n",
            "89/89 [==============================] - 63s 707ms/step - loss: 0.6954 - accuracy: 0.5025 - val_loss: 0.6986 - val_accuracy: 0.5241\n",
            "Epoch 19/20\n",
            "89/89 [==============================] - 62s 690ms/step - loss: 0.6967 - accuracy: 0.4904 - val_loss: 0.7331 - val_accuracy: 0.4745\n",
            "Epoch 20/20\n",
            "89/89 [==============================] - 62s 698ms/step - loss: 0.6959 - accuracy: 0.4911 - val_loss: 0.6949 - val_accuracy: 0.4731\n",
            "Test loss: 0.6948928833007812\n",
            "Test accuracy: 0.4730878174304962\n"
          ]
        },
        {
          "data": {
            "image/png": "[encoded data removed]",
            "text/plain": [
              "<Figure size 640x480 with 1 Axes>"
            ]
          },
          "metadata": {},
          "output_type": "display_data"
        }
      ],
      "source": [
        "image_size = 256\n",
        "path = os.getcwd()\n",
        "bs = 32  # batch size\n",
        "\n",
        "# Load and preprocess your dataset (X_train, y_train_one_hot, X_test, y_test_one_hot)\n",
        "\n",
        "model = create_model(image_size)\n",
        "model, history = train_model(model, X_train, y_train_one_hot, X_test, y_test_one_hot)\n",
        "\n",
        "evaluate_model(model, X_test, y_test_one_hot)\n",
        "plot_accuracy(history)\n"
      ]
    },
    {
      "cell_type": "code",
      "execution_count": null,
      "metadata": {
        "colab": {
          "base_uri": "https://localhost:8080/"
        },
        "id": "vqISyIt-lfUs",
        "outputId": "2afb9624-984c-427b-9ecc-643ee2dabd30"
      },
      "outputs": [
        {
          "name": "stdout",
          "output_type": "stream",
          "text": [
            "89/89 [==============================] - 23s 253ms/step - loss: 0.6928 - accuracy: 0.5078\n",
            "23/23 [==============================] - 4s 170ms/step - loss: 0.6949 - accuracy: 0.4731\n",
            "0.5078014135360718\n",
            "0.4730878174304962\n"
          ]
        }
      ],
      "source": [
        "training_accuracy = model.evaluate(X_train, y_train_one_hot)[1]\n",
        "test_accuracy = model.evaluate(X_test, y_test_one_hot)[1]\n",
        "print(training_accuracy)\n",
        "print(test_accuracy)"
      ]
    },
    {
      "cell_type": "code",
      "execution_count": null,
      "metadata": {
        "colab": {
          "base_uri": "https://localhost:8080/"
        },
        "id": "9CZDU1adk1Cn",
        "outputId": "e614c829-336d-4b54-f553-4e100fc521cd"
      },
      "outputs": [
        {
          "name": "stdout",
          "output_type": "stream",
          "text": [
            "1/1 [==============================] - 0s 237ms/step\n",
            "Predicting:  [[0.50371826 0.49628168]]\n",
            "0\n",
            "Predicted image is COVER IMAGE\n"
          ]
        }
      ],
      "source": [
        "img_path = \"/content/hidden_cover_img.jpg\"\n",
        "predict_image(model, img_path)"
      ]
    },
    {
      "cell_type": "code",
      "execution_count": null,
      "metadata": {
        "colab": {
          "base_uri": "https://localhost:8080/"
        },
        "id": "PKnnOZ--Dru8",
        "outputId": "7af60691-8383-4ba7-b8cb-e533dbd77e23"
      },
      "outputs": [
        {
          "name": "stdout",
          "output_type": "stream",
          "text": [
            "1/1 [==============================] - 0s 30ms/step\n",
            "Predicting:  [[0.50371784 0.49628216]]\n",
            "0\n",
            "Predicted image is COVER IMAGE\n"
          ]
        }
      ],
      "source": [
        "img_path = \"/content/cover_img.jpg\"\n",
        "predict_image(model, img_path)"
      ]
    }
  ],
  "metadata": {
    "colab": {
      "provenance": [],
      "include_colab_link": true
    },
    "kernelspec": {
      "display_name": "Python 3",
      "name": "python3"
    },
    "language_info": {
      "name": "python"
    }
  },
  "nbformat": 4,
  "nbformat_minor": 0
}